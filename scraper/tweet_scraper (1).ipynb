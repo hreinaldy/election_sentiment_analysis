{
  "nbformat": 4,
  "nbformat_minor": 0,
  "metadata": {
    "kernelspec": {
      "display_name": "Python 3",
      "language": "python",
      "name": "python3"
    },
    "language_info": {
      "codemirror_mode": {
        "name": "ipython",
        "version": 3
      },
      "file_extension": ".py",
      "mimetype": "text/x-python",
      "name": "python",
      "nbconvert_exporter": "python",
      "pygments_lexer": "ipython3",
      "version": "3.8.5"
    },
    "colab": {
      "name": "tweet_scraper",
      "provenance": []
    }
  },
  "cells": [
    {
      "cell_type": "code",
      "metadata": {
        "id": "OLBCj1b70ffJ"
      },
      "source": [
        "import snscrape.modules.twitter as sntwitter\n",
        "import csv\n",
        "import string\n",
        "from datetime import timedelta, date"
      ],
      "execution_count": null,
      "outputs": []
    },
    {
      "cell_type": "code",
      "metadata": {
        "id": "-dAu-Vkq0ffZ"
      },
      "source": [
        "def daterange(start_date, end_date):\n",
        "    for n in range(int((end_date - start_date).days)):\n",
        "        yield start_date + timedelta(n)"
      ],
      "execution_count": null,
      "outputs": []
    },
    {
      "cell_type": "code",
      "metadata": {
        "id": "41GlJrY10ffb"
      },
      "source": [
        "start_date = date(2020, 11, 3)\n",
        "end_date = date(2020, 11, 4)\n",
        "\n",
        "for each_date in daterange(start_date, end_date):\n",
        "    since = each_date.strftime(\"%Y-%m-%d\")\n",
        "    until = (each_date+timedelta(1)).strftime(\"%Y-%m-%d\")\n",
        "    keyword = ('Biden-{a}'.format(a=(each_date.strftime(\"%B\").lower())))#Change to 'Biden' to 'Trump'\n",
        "    max_tweets = 15000\n",
        "\n",
        "#Open/create a file to append data to\n",
        "    csvFile = open('{a}{b}.csv'.format(a=keyword,b=since), 'a', newline='', encoding='utf8')\n",
        "\n",
        "#Use csv writer\n",
        "    csvWriter = csv.writer(csvFile)\n",
        "    csvWriter.writerow(['created_at','tweet_id','tweet','retweet_count', 'like_count','quote count',\n",
        "                        'source','verified_stat','username','user_loc', 'user_created_at']) \n",
        "\n",
        "    for i,tweet in enumerate(sntwitter.TwitterSearchScraper(keyword + 'since:{a} until:{b} lang:en -filter:links -filter:replies'.format(a=since,b=until)).get_items()):\n",
        "            if i > max_tweets :\n",
        "                break      \n",
        "            csvWriter.writerow([tweet.date, tweet.id, tweet.renderedContent, tweet.retweetCount, tweet.likeCount, tweet.quoteCount,\n",
        "                                tweet.sourceLabel, tweet.user.verified, tweet.user.username, tweet.user.location, tweet.user.created])\n",
        "    csvFile.close()\n"
      ],
      "execution_count": null,
      "outputs": []
    },
    {
      "cell_type": "code",
      "metadata": {
        "id": "3_RiUkT50ffd"
      },
      "source": [
        ""
      ],
      "execution_count": null,
      "outputs": []
    }
  ]
}